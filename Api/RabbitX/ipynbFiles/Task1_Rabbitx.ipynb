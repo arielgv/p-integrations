{
 "cells": [
  {
   "cell_type": "markdown",
   "metadata": {},
   "source": [
    "Funding Rate + market info monitor"
   ]
  },
  {
   "cell_type": "code",
   "execution_count": 1,
   "metadata": {},
   "outputs": [
    {
     "name": "stdout",
     "output_type": "stream",
     "text": [
      "Ticker: BTC-USD, Instant Funding Rate: 0.00006176357377149939232324745246281107, Open Interest: 32787818.74, 24h Volume: 362304360.6561, Next Funding Rate Timestamp: 2024-02-20 18:00:00\n",
      "Ticker: ETH-USD, Instant Funding Rate: 0.00006327373457965926823159156878251527, Open Interest: 30358028.59, 24h Volume: 323587979.176, Next Funding Rate Timestamp: 2024-02-20 18:00:00\n",
      "Ticker: BTC-USD, Instant Funding Rate: 0.00006149617281581437074881886399593218, Open Interest: 34387268.22, 24h Volume: 362256644.0883, Next Funding Rate Timestamp: 2024-02-20 18:00:00\n",
      "Ticker: ETH-USD, Instant Funding Rate: 0.00006420517137005734837132508223101601, Open Interest: 29386600.9, 24h Volume: 323610231.4316, Next Funding Rate Timestamp: 2024-02-20 18:00:00\n",
      "Ticker: BTC-USD, Instant Funding Rate: 0.00006002793216887045324546157633372882, Open Interest: 33401150.38, 24h Volume: 361767865.5933, Next Funding Rate Timestamp: 2024-02-20 18:00:00\n",
      "Ticker: ETH-USD, Instant Funding Rate: 0.00006420419619882025614068197646335048, Open Interest: 30078170.83, 24h Volume: 323657470.3658, Next Funding Rate Timestamp: 2024-02-20 18:00:00\n",
      "Ticker: BTC-USD, Instant Funding Rate: 0.00005922909478692878167679648311516297, Open Interest: 32346790.62, 24h Volume: 361827971.7279, Next Funding Rate Timestamp: 2024-02-20 18:00:00\n",
      "Ticker: ETH-USD, Instant Funding Rate: 0.00005931703589742897462405520777302129, Open Interest: 28760645.05, 24h Volume: 323717182.2629, Next Funding Rate Timestamp: 2024-02-20 18:00:00\n",
      "Ticker: BTC-USD, Instant Funding Rate: 0.00006043192368119439267913152213101238, Open Interest: 32058698.65, 24h Volume: 361805038.6093, Next Funding Rate Timestamp: 2024-02-20 18:00:00\n",
      "Ticker: ETH-USD, Instant Funding Rate: 0.00006421200673201474503705778003856109, Open Interest: 29028189.48, 24h Volume: 323823977.6914, Next Funding Rate Timestamp: 2024-02-20 18:00:00\n",
      "Ticker: BTC-USD, Instant Funding Rate: 0.00005864019122317522618389499983070072, Open Interest: 33185128.02, 24h Volume: 361887610.3913, Next Funding Rate Timestamp: 2024-02-20 18:00:00\n",
      "Ticker: ETH-USD, Instant Funding Rate: 0.00006784687134111056329728235863841527, Open Interest: 30537497.73, 24h Volume: 323923855.8595, Next Funding Rate Timestamp: 2024-02-20 18:00:00\n"
     ]
    },
    {
     "ename": "KeyboardInterrupt",
     "evalue": "",
     "output_type": "error",
     "traceback": [
      "\u001b[0;31m---------------------------------------------------------------------------\u001b[0m",
      "\u001b[0;31mKeyboardInterrupt\u001b[0m                         Traceback (most recent call last)",
      "Cell \u001b[0;32mIn[1], line 37\u001b[0m\n\u001b[1;32m     35\u001b[0m market_data \u001b[38;5;241m=\u001b[39m get_market_data()\n\u001b[1;32m     36\u001b[0m print_data(market_data)\n\u001b[0;32m---> 37\u001b[0m \u001b[43mtime\u001b[49m\u001b[38;5;241;43m.\u001b[39;49m\u001b[43msleep\u001b[49m\u001b[43m(\u001b[49m\u001b[38;5;241;43m10\u001b[39;49m\u001b[43m)\u001b[49m\n",
      "\u001b[0;31mKeyboardInterrupt\u001b[0m: "
     ]
    }
   ],
   "source": [
    "import rabbitx\n",
    "from rabbitx.client import Client\n",
    "from datetime import datetime\n",
    "import time\n",
    "\n",
    "api_NoTest = 'https://api.prod.rabbitx.io'\n",
    "\n",
    "private_key = '0x1f173c6505de4108c564e21de1df1c8d3e8893b09c42f88af739148fc57ec946'  # Replace with your actual private key\n",
    "client = Client(api_url=api_NoTest, private_key=private_key)\n",
    "\n",
    "# Tickers of interest\n",
    "interested_tickers = ['BTC-USD', 'ETH-USD'] \n",
    "\n",
    "def get_market_data():\n",
    "    markets = client.markets.list()\n",
    "    filtered_data = []\n",
    "    for market in markets:\n",
    "        if market['id'] in interested_tickers:\n",
    "            next_funding_rate_timestamp_readable = datetime.fromtimestamp(market['next_funding_rate_timestamp']).strftime('%Y-%m-%d %H:%M:%S')\n",
    "            data = {\n",
    "                'ticker': market['id'],\n",
    "                'instant_funding_rate': market.get('instant_funding_rate', 'N/A'),\n",
    "                'open_interest': market.get('open_interest', 'N/A'),\n",
    "                '24h_volume': market.get('average_daily_volume', 'N/A'),  # Using average_daily_volume as a proxy\n",
    "                'next_funding_rate_timestamp': next_funding_rate_timestamp_readable\n",
    "            }\n",
    "            filtered_data.append(data)\n",
    "    return filtered_data\n",
    "\n",
    "def print_data(data):\n",
    "    for item in data:\n",
    "        print(f\"Ticker: {item['ticker']}, Instant Funding Rate: {item['instant_funding_rate']}, Open Interest: {item['open_interest']}, 24h Volume: {item['24h_volume']}, Next Funding Rate Timestamp: {item['next_funding_rate_timestamp']}\")\n",
    "\n",
    "while True:\n",
    "    market_data = get_market_data()\n",
    "    print_data(market_data)\n",
    "    time.sleep(10)"
   ]
  },
  {
   "cell_type": "code",
   "execution_count": null,
   "metadata": {},
   "outputs": [],
   "source": []
  }
 ],
 "metadata": {
  "kernelspec": {
   "display_name": "venv",
   "language": "python",
   "name": "python3"
  },
  "language_info": {
   "codemirror_mode": {
    "name": "ipython",
    "version": 3
   },
   "file_extension": ".py",
   "mimetype": "text/x-python",
   "name": "python",
   "nbconvert_exporter": "python",
   "pygments_lexer": "ipython3",
   "version": "3.10.0"
  }
 },
 "nbformat": 4,
 "nbformat_minor": 2
}
