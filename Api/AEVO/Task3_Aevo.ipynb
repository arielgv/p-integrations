{
 "cells": [
  {
   "cell_type": "code",
   "execution_count": 2,
   "metadata": {},
   "outputs": [
    {
     "name": "stdout",
     "output_type": "stream",
     "text": [
      "Auth Resp: {\"data\":{\"success\":true,\"account\":\"0x08dfEF84dC42F795F7dc8b1c71d486E8fd045a0E\"},\"write_ts\":\"1709149234159207757\"}\n",
      "Subscribed to position updates\n",
      "Updated received: {\"channel\":\"positions\",\"data\":{\"timestamp\":\"1709149234506327442\",\"positions\":[]},\"write_ts\":\"1709149234517321251\"}\n",
      "Updated received: {\"data\":[\"positions\"],\"write_ts\":\"1709149234528175310\"}\n"
     ]
    }
   ],
   "source": [
    "import os\n",
    "import json\n",
    "import asyncio\n",
    "import websockets\n",
    "from api import API_KEY, API_SECRET\n",
    "from websockets.exceptions import ConnectionClosedError\n",
    "\n",
    "ApiKey = API_KEY\n",
    "ApiSecret = API_SECRET\n",
    "\n",
    "async def subscribe_to_positions():\n",
    "    uri = \"wss://ws.aevo.xyz\" \n",
    "    try:\n",
    "        async with websockets.connect(uri) as websocket:\n",
    "            \n",
    "            auth_msg = json.dumps({\n",
    "                \"op\": \"auth\",\n",
    "                \"data\": {\n",
    "                    \"key\": ApiKey,\n",
    "                    \"secret\": ApiSecret,\n",
    "                }\n",
    "            })\n",
    "            await websocket.send(auth_msg)\n",
    "            auth_response = await websocket.recv()\n",
    "            print(\"Auth Resp:\", auth_response)\n",
    "\n",
    "            \n",
    "            subscribe_msg = json.dumps({\n",
    "                \"op\": \"subscribe\",\n",
    "                \"data\": [\"positions\"]\n",
    "            })\n",
    "            await websocket.send(subscribe_msg)\n",
    "            print(\"Subscribed to position updates\")\n",
    "\n",
    "            \n",
    "            while True:\n",
    "                response = await websocket.recv()\n",
    "                print(\"Updated received:\", response)\n",
    "    except ConnectionClosedError as e:\n",
    "        print(f\"The connection closed unexpectedly: {e}\")\n",
    "    except Exception as e:\n",
    "        print(f\"An error ocurred: {e}\")\n",
    "\n",
    "loop = asyncio.get_event_loop()\n",
    "\n",
    "if loop.is_running():\n",
    "    task = asyncio.ensure_future(subscribe_to_positions())\n",
    "else:\n",
    "    loop.run_until_complete(subscribe_to_positions())\n"
   ]
  },
  {
   "cell_type": "code",
   "execution_count": null,
   "metadata": {},
   "outputs": [],
   "source": [
    "Expected_output = {\n",
    "\t\"channel\": \"positions\",\n",
    "\t\"data\": {\n",
    "\t\t\"timestamp\": \"1673671845685460000\",\n",
    "\t\t\"positions\": [\n",
    "\t\t\t{\n",
    "\t\t\t\t\"instrument_id\": \"12\",\n",
    "\t\t\t\t\"instrument_name\": \"ETH-30JUN23-1600-C\",\n",
    "\t\t\t\t\"instrument_type\": \"OPTION\",\n",
    "\t\t\t\t\"amount\": \"12.23\",\n",
    "\t\t\t\t\"mark_price\": \"12.23\",\n",
    "\t\t\t\t\"option\": {\n",
    "\t\t\t\t\t\"iv\": \"0.23\",\n",
    "\t\t\t\t\t\"strike\": \"2500\",\n",
    "\t\t\t\t\t\"option_type\": \"put\",\n",
    "\t\t\t\t\t\"expiry\": \"1680249600000000000\",\n",
    "\t\t\t\t\t\"delta\": \"0.23\",\n",
    "\t\t\t\t\t\"theta\": \"0.23\",\n",
    "\t\t\t\t\t\"vega\": \"0.23\",\n",
    "\t\t\t\t\t\"rho\": \"0.23\"\n",
    "\t\t\t\t},\n",
    "\t\t\t\t\"asset\": \"ETH\",\n",
    "\t\t\t\t\"side\": \"buy\",\n",
    "\t\t\t\t\"avg_entry_price\": \"12.23\",\n",
    "\t\t\t\t\"unrealized_pnl\": \"12.23\",\n",
    "\t\t\t\t\"maintenance_margin\": \"12.23\"\n",
    "\t\t\t}\n",
    "\t\t]\n",
    "\t}\n",
    "}"
   ]
  },
  {
   "cell_type": "code",
   "execution_count": null,
   "metadata": {},
   "outputs": [],
   "source": []
  }
 ],
 "metadata": {
  "kernelspec": {
   "display_name": "venv",
   "language": "python",
   "name": "python3"
  },
  "language_info": {
   "codemirror_mode": {
    "name": "ipython",
    "version": 3
   },
   "file_extension": ".py",
   "mimetype": "text/x-python",
   "name": "python",
   "nbconvert_exporter": "python",
   "pygments_lexer": "ipython3",
   "version": "3.10.0"
  }
 },
 "nbformat": 4,
 "nbformat_minor": 2
}
