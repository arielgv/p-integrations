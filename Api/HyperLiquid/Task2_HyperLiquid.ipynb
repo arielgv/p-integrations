{
 "cells": [
  {
   "cell_type": "code",
   "execution_count": 3,
   "metadata": {},
   "outputs": [
    {
     "name": "stdout",
     "output_type": "stream",
     "text": [
      "Ticker: ETH, Timestamp: 2024-02-19 01:10:01, Bid: 2890.3, Ask: 2890.8, Bid Size: 4450.178299999998, Ask Size: 3905.2007999999996\n"
     ]
    },
    {
     "ename": "KeyboardInterrupt",
     "evalue": "",
     "output_type": "error",
     "traceback": [
      "\u001b[0;31m---------------------------------------------------------------------------\u001b[0m",
      "\u001b[0;31mKeyboardInterrupt\u001b[0m                         Traceback (most recent call last)",
      "Cell \u001b[0;32mIn[3], line 35\u001b[0m\n\u001b[1;32m     32\u001b[0m         time\u001b[38;5;241m.\u001b[39msleep(\u001b[38;5;241m10\u001b[39m)\n\u001b[1;32m     34\u001b[0m \u001b[38;5;28;01mif\u001b[39;00m \u001b[38;5;18m__name__\u001b[39m \u001b[38;5;241m==\u001b[39m \u001b[38;5;124m\"\u001b[39m\u001b[38;5;124m__main__\u001b[39m\u001b[38;5;124m\"\u001b[39m:\n\u001b[0;32m---> 35\u001b[0m     \u001b[43mmain\u001b[49m\u001b[43m(\u001b[49m\u001b[43m)\u001b[49m\n",
      "Cell \u001b[0;32mIn[3], line 32\u001b[0m, in \u001b[0;36mmain\u001b[0;34m()\u001b[0m\n\u001b[1;32m     28\u001b[0m timestamp \u001b[38;5;241m=\u001b[39m datetime\u001b[38;5;241m.\u001b[39mdatetime\u001b[38;5;241m.\u001b[39mfromtimestamp(l2_snapshot[\u001b[38;5;124m'\u001b[39m\u001b[38;5;124mtime\u001b[39m\u001b[38;5;124m'\u001b[39m] \u001b[38;5;241m/\u001b[39m \u001b[38;5;241m1000\u001b[39m)\u001b[38;5;241m.\u001b[39mstrftime(\u001b[38;5;124m'\u001b[39m\u001b[38;5;124m%\u001b[39m\u001b[38;5;124mY-\u001b[39m\u001b[38;5;124m%\u001b[39m\u001b[38;5;124mm-\u001b[39m\u001b[38;5;132;01m%d\u001b[39;00m\u001b[38;5;124m \u001b[39m\u001b[38;5;124m%\u001b[39m\u001b[38;5;124mH:\u001b[39m\u001b[38;5;124m%\u001b[39m\u001b[38;5;124mM:\u001b[39m\u001b[38;5;124m%\u001b[39m\u001b[38;5;124mS\u001b[39m\u001b[38;5;124m'\u001b[39m)\n\u001b[1;32m     30\u001b[0m \u001b[38;5;28mprint\u001b[39m(\u001b[38;5;124mf\u001b[39m\u001b[38;5;124m\"\u001b[39m\u001b[38;5;124mTicker: \u001b[39m\u001b[38;5;132;01m{\u001b[39;00mticker\u001b[38;5;132;01m}\u001b[39;00m\u001b[38;5;124m, Timestamp: \u001b[39m\u001b[38;5;132;01m{\u001b[39;00mtimestamp\u001b[38;5;132;01m}\u001b[39;00m\u001b[38;5;124m, Bid: \u001b[39m\u001b[38;5;132;01m{\u001b[39;00mbest_bid\u001b[38;5;132;01m}\u001b[39;00m\u001b[38;5;124m, Ask: \u001b[39m\u001b[38;5;132;01m{\u001b[39;00mbest_ask\u001b[38;5;132;01m}\u001b[39;00m\u001b[38;5;124m, Bid Size: \u001b[39m\u001b[38;5;132;01m{\u001b[39;00mtotal_bid_size\u001b[38;5;132;01m}\u001b[39;00m\u001b[38;5;124m, Ask Size: \u001b[39m\u001b[38;5;132;01m{\u001b[39;00mtotal_ask_size\u001b[38;5;132;01m}\u001b[39;00m\u001b[38;5;124m\"\u001b[39m)\n\u001b[0;32m---> 32\u001b[0m \u001b[43mtime\u001b[49m\u001b[38;5;241;43m.\u001b[39;49m\u001b[43msleep\u001b[49m\u001b[43m(\u001b[49m\u001b[38;5;241;43m10\u001b[39;49m\u001b[43m)\u001b[49m\n",
      "\u001b[0;31mKeyboardInterrupt\u001b[0m: "
     ]
    }
   ],
   "source": [
    "from hyperliquid.info import Info\n",
    "from hyperliquid.utils import constants\n",
    "import datetime\n",
    "import time\n",
    "\n",
    "\n",
    "TICKERS = [\"BTC\", \"ETH\"]\n",
    "\n",
    "def calculate_total_size(levels):\n",
    "    return sum(float(level['sz']) for level in levels)\n",
    "\n",
    "def process_ticker(ticker):\n",
    "    info = Info(constants.TESTNET_API_URL, skip_ws=True)\n",
    "    l2_snapshot = info.l2_snapshot(coin=ticker)\n",
    "\n",
    "    bids = l2_snapshot['levels'][0]\n",
    "    asks = l2_snapshot['levels'][1]\n",
    "\n",
    "    total_bid_size = calculate_total_size(bids)\n",
    "    total_ask_size = calculate_total_size(asks)\n",
    "\n",
    "    best_bid = bids[0]['px']\n",
    "    best_ask = asks[0]['px']\n",
    "\n",
    "    timestamp = datetime.datetime.fromtimestamp(l2_snapshot['time'] / 1000).strftime('%Y-%m-%d %H:%M:%S')\n",
    "    print(f\"Ticker: {ticker}, Timestamp: {timestamp}, Bid: {best_bid}, Ask: {best_ask}, Bid Size: {total_bid_size}, Ask Size: {total_ask_size}\")\n",
    "\n",
    "def main():\n",
    "    while True:\n",
    "        for ticker in TICKERS:\n",
    "            process_ticker(ticker)\n",
    "        time.sleep(10)\n",
    "\n",
    "if __name__ == \"__main__\":\n",
    "    main()"
   ]
  }
 ],
 "metadata": {
  "kernelspec": {
   "display_name": "venv",
   "language": "python",
   "name": "python3"
  },
  "language_info": {
   "codemirror_mode": {
    "name": "ipython",
    "version": 3
   },
   "file_extension": ".py",
   "mimetype": "text/x-python",
   "name": "python",
   "nbconvert_exporter": "python",
   "pygments_lexer": "ipython3",
   "version": "3.10.0"
  }
 },
 "nbformat": 4,
 "nbformat_minor": 2
}
