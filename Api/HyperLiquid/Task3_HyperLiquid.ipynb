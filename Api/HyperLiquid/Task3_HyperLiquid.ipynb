{
 "cells": [
  {
   "cell_type": "code",
   "execution_count": 4,
   "metadata": {},
   "outputs": [
    {
     "name": "stdout",
     "output_type": "stream",
     "text": [
      "Positions:\n",
      "Ticker: SOL, Entry Price: 22.2863, Current Price: 111.96, Position Size: 126.49, Leverage: cross 20, Liquidation Price: N/A, Unrealized PnL: 11336.501813, Margin Used: 707.774795, Timestamp: 2024-02-19 00:20:25\n",
      "Ticker: APT, Entry Price: 10.99, Current Price: 9.8343, Position Size: -168.1, Leverage: cross 20, Liquidation Price: 1952.31662528, Unrealized PnL: 194.10507, Margin Used: 82.665696, Timestamp: 2024-02-19 00:20:25\n",
      "Ticker: ATOM, Entry Price: 10.9725, Current Price: 10.579, Position Size: 510.67, Leverage: cross 20, Liquidation Price: N/A, Unrealized PnL: -201.459315, Margin Used: 270.093363, Timestamp: 2024-02-19 00:20:25\n",
      "Ticker: BTC, Entry Price: 31538.2, Current Price: 52145.5, Position Size: -0.15792, Leverage: cross 20, Liquidation Price: 2119845.5363425, Unrealized PnL: -3254.383776, Margin Used: 411.744816, Timestamp: 2024-02-19 00:20:26\n",
      "Ticker: ETH, Entry Price: 2008.46, Current Price: 2888.95, Position Size: -2.8225, Leverage: cross 20, Liquidation Price: 118577.41320787, Unrealized PnL: -2484.75965, Margin Used: 407.6819, Timestamp: 2024-02-19 00:20:26\n",
      "Ticker: MATIC, Entry Price: 0.9783, Current Price: 0.99901, Position Size: 2405.5, Leverage: cross 20, Liquidation Price: N/A, Unrealized PnL: 49.817905, Margin Used: 120.155927, Timestamp: 2024-02-19 00:20:26\n",
      "Ticker: BNB, Entry Price: 346.33, Current Price: 352.695, Position Size: -14.872, Leverage: cross 20, Liquidation Price: 22308.80943378, Unrealized PnL: -94.877887, Margin Used: 262.275156, Timestamp: 2024-02-19 00:20:27\n",
      "Ticker: AVAX, Entry Price: 16.7588, Current Price: 40.228, Position Size: 486.88, Leverage: cross 20, Liquidation Price: N/A, Unrealized PnL: 11424.736576, Margin Used: 979.213056, Timestamp: 2024-02-19 00:20:27\n",
      "Ticker: GMT, Entry Price: 0.323488, Current Price: 0.280455, Position Size: 9093.0, Leverage: cross 2, Liquidation Price: N/A, Unrealized PnL: -391.344534, Margin Used: 1275.065925, Timestamp: 2024-02-19 00:20:27\n",
      "Ticker: DYDX, Entry Price: 3.0287, Current Price: 3.16665, Position Size: -200.7, Leverage: cross 20, Liquidation Price: 1630.12738973, Unrealized PnL: -27.59625, Margin Used: 31.772817, Timestamp: 2024-02-19 00:20:28\n",
      "Ticker: APE, Entry Price: 3.82611, Current Price: 1.7225, Position Size: 2689.3, Leverage: cross 20, Liquidation Price: N/A, Unrealized PnL: -5657.507303, Margin Used: 231.602516, Timestamp: 2024-02-19 00:20:28\n",
      "Ticker: OP, Entry Price: 2.0938, Current Price: 3.7801, Position Size: 1646.9, Leverage: cross 20, Liquidation Price: N/A, Unrealized PnL: 2776.327552, Margin Used: 311.231162, Timestamp: 2024-02-19 00:20:28\n"
     ]
    }
   ],
   "source": [
    "from hyperliquid.info import Info\n",
    "from hyperliquid.utils import constants\n",
    "import datetime\n",
    "import time\n",
    "\n",
    "####  address provided for testnet @ hyperliquid\n",
    "address = \"0xcd5051944f780a621ee62e39e493c489668acf4d\"\n",
    "#####\n",
    "\n",
    "\n",
    "\n",
    "def display_user_positions_with_additional_info(address):\n",
    "    info = Info(constants.TESTNET_API_URL, skip_ws=True)\n",
    "    user_state = info.user_state(address)\n",
    "    all_mids = info.all_mids()  \n",
    "    \n",
    "    print(\"Positions:\")\n",
    "    for asset in user_state['assetPositions']:\n",
    "        position = asset['position']\n",
    "        coin = position['coin']\n",
    "        entry_px = position['entryPx']\n",
    "        szi = position['szi']\n",
    "        leverage = position['leverage']\n",
    "        liquidation_px = position['liquidationPx'] or \"N/A\"\n",
    "        unrealized_pnl = position['unrealizedPnl']\n",
    "        margin_used = position['marginUsed']\n",
    "        current_px = all_mids[coin] \n",
    "        \n",
    "     \n",
    "        l2_snapshot = info.l2_snapshot(coin=coin)\n",
    "        stamp = int(time.time())\n",
    "        timestamp = datetime.datetime.fromtimestamp(stamp).strftime('%Y-%m-%d %H:%M:%S')\n",
    "        \n",
    "        #realized_pnl = \"N/A\" \n",
    "        #free_collateral = \"N/A\" \n",
    "        #avg_open_close = \"N/A\" \n",
    "        \n",
    "        print(f\"Ticker: {coin}, Entry Price: {entry_px}, Current Price: {current_px}, Position Size: {szi}, \"\n",
    "              f\"Leverage: {leverage['type']} {leverage['value']}, Liquidation Price: {liquidation_px}, \"\n",
    "              f\"Unrealized PnL: {unrealized_pnl}, Margin Used: {margin_used}, \"\n",
    "              f\"Timestamp: {timestamp}\")\n",
    "\n",
    "\n",
    "\n",
    "display_user_positions_with_additional_info(address)\n"
   ]
  },
  {
   "cell_type": "code",
   "execution_count": null,
   "metadata": {},
   "outputs": [],
   "source": []
  }
 ],
 "metadata": {
  "kernelspec": {
   "display_name": "venv",
   "language": "python",
   "name": "python3"
  },
  "language_info": {
   "codemirror_mode": {
    "name": "ipython",
    "version": 3
   },
   "file_extension": ".py",
   "mimetype": "text/x-python",
   "name": "python",
   "nbconvert_exporter": "python",
   "pygments_lexer": "ipython3",
   "version": "3.10.0"
  }
 },
 "nbformat": 4,
 "nbformat_minor": 2
}
