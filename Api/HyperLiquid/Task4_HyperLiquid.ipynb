{
 "cells": [
  {
   "cell_type": "code",
   "execution_count": 2,
   "metadata": {},
   "outputs": [],
   "source": [
    "from hyperliquid.info import Info\n",
    "from hyperliquid.utils import constants"
   ]
  },
  {
   "cell_type": "code",
   "execution_count": 3,
   "metadata": {},
   "outputs": [],
   "source": [
    "info = Info(constants.TESTNET_API_URL, skip_ws = True)"
   ]
  },
  {
   "cell_type": "code",
   "execution_count": 5,
   "metadata": {},
   "outputs": [],
   "source": [
    "active_market = info.meta()"
   ]
  },
  {
   "cell_type": "code",
   "execution_count": 6,
   "metadata": {},
   "outputs": [
    {
     "name": "stdout",
     "output_type": "stream",
     "text": [
      "{'universe': [{'maxLeverage': 50, 'name': 'SOL', 'onlyIsolated': False, 'szDecimals': 2}, {'maxLeverage': 50, 'name': 'APT', 'onlyIsolated': False, 'szDecimals': 2}, {'maxLeverage': 50, 'name': 'ATOM', 'onlyIsolated': False, 'szDecimals': 2}, {'maxLeverage': 50, 'name': 'BTC', 'onlyIsolated': False, 'szDecimals': 5}, {'maxLeverage': 50, 'name': 'ETH', 'onlyIsolated': False, 'szDecimals': 4}, {'maxLeverage': 50, 'name': 'MATIC', 'onlyIsolated': False, 'szDecimals': 1}, {'maxLeverage': 50, 'name': 'BNB', 'onlyIsolated': False, 'szDecimals': 3}, {'maxLeverage': 50, 'name': 'AVAX', 'onlyIsolated': False, 'szDecimals': 2}, {'maxLeverage': 2, 'name': 'GMT', 'onlyIsolated': False, 'szDecimals': 0}, {'maxLeverage': 50, 'name': 'DYDX', 'onlyIsolated': False, 'szDecimals': 1}, {'maxLeverage': 50, 'name': 'APE', 'onlyIsolated': False, 'szDecimals': 1}, {'maxLeverage': 50, 'name': 'OP', 'onlyIsolated': False, 'szDecimals': 1}, {'maxLeverage': 50, 'name': 'kPEPE', 'onlyIsolated': False, 'szDecimals': 0}, {'maxLeverage': 50, 'name': 'ARB', 'onlyIsolated': False, 'szDecimals': 1}, {'maxLeverage': 50, 'name': 'RLB', 'onlyIsolated': False, 'szDecimals': 0}, {'maxLeverage': 10, 'name': 'WLD', 'onlyIsolated': False, 'szDecimals': 1}, {'maxLeverage': 50, 'name': 'HPOS', 'onlyIsolated': False, 'szDecimals': 0}, {'maxLeverage': 2, 'name': 'UNIBOT', 'onlyIsolated': True, 'szDecimals': 2}, {'maxLeverage': 20, 'name': 'COMP', 'onlyIsolated': False, 'szDecimals': 2}, {'maxLeverage': 20, 'name': 'FXS', 'onlyIsolated': False, 'szDecimals': 1}, {'maxLeverage': 20, 'name': 'MKR', 'onlyIsolated': False, 'szDecimals': 4}, {'maxLeverage': 20, 'name': 'AAVE', 'onlyIsolated': False, 'szDecimals': 2}, {'maxLeverage': 20, 'name': 'SNX', 'onlyIsolated': False, 'szDecimals': 1}, {'maxLeverage': 20, 'name': 'RNDR', 'onlyIsolated': False, 'szDecimals': 1}, {'maxLeverage': 20, 'name': 'LDO', 'onlyIsolated': False, 'szDecimals': 1}, {'maxLeverage': 20, 'name': 'SUI', 'onlyIsolated': False, 'szDecimals': 1}, {'maxLeverage': 20, 'name': 'INJ', 'onlyIsolated': False, 'szDecimals': 1}, {'maxLeverage': 20, 'name': 'STX', 'onlyIsolated': False, 'szDecimals': 1}, {'maxLeverage': 20, 'name': 'FTM', 'onlyIsolated': False, 'szDecimals': 0}, {'maxLeverage': 20, 'name': 'kSHIB', 'onlyIsolated': False, 'szDecimals': 0}, {'maxLeverage': 3, 'name': 'OX', 'onlyIsolated': True, 'szDecimals': 0}, {'maxLeverage': 3, 'name': 'FRIEND', 'onlyIsolated': True, 'szDecimals': 1}, {'maxLeverage': 3, 'name': 'ZRO', 'onlyIsolated': True, 'szDecimals': 1}, {'maxLeverage': 5, 'name': 'BLZ', 'onlyIsolated': False, 'szDecimals': 0}, {'maxLeverage': 3, 'name': 'BANANA', 'onlyIsolated': True, 'szDecimals': 1}, {'maxLeverage': 3, 'name': 'FTT', 'onlyIsolated': False, 'szDecimals': 1}, {'maxLeverage': 5, 'name': 'TRB', 'onlyIsolated': False, 'szDecimals': 2}, {'maxLeverage': 3, 'name': 'CANTO', 'onlyIsolated': True, 'szDecimals': 0}, {'maxLeverage': 3, 'name': 'BIGTIME', 'onlyIsolated': False, 'szDecimals': 0}, {'maxLeverage': 5, 'name': 'NTRN', 'onlyIsolated': False, 'szDecimals': 0}, {'maxLeverage': 5, 'name': 'KAS', 'onlyIsolated': False, 'szDecimals': 0}, {'maxLeverage': 10, 'name': 'BLUR', 'onlyIsolated': False, 'szDecimals': 0}, {'maxLeverage': 20, 'name': 'TIA', 'onlyIsolated': False, 'szDecimals': 1}, {'maxLeverage': 10, 'name': 'BSV', 'onlyIsolated': False, 'szDecimals': 2}, {'maxLeverage': 10, 'name': 'TON', 'onlyIsolated': False, 'szDecimals': 1}, {'maxLeverage': 20, 'name': 'ADA', 'onlyIsolated': False, 'szDecimals': 0}, {'maxLeverage': 10, 'name': 'MINA', 'onlyIsolated': False, 'szDecimals': 0}, {'maxLeverage': 10, 'name': 'POLYX', 'onlyIsolated': False, 'szDecimals': 0}, {'maxLeverage': 10, 'name': 'GAS', 'onlyIsolated': False, 'szDecimals': 1}, {'maxLeverage': 3, 'name': 'AXL', 'onlyIsolated': False, 'szDecimals': 0}, {'maxLeverage': 10, 'name': 'PENDLE', 'onlyIsolated': False, 'szDecimals': 0}, {'maxLeverage': 10, 'name': 'STG', 'onlyIsolated': False, 'szDecimals': 0}, {'maxLeverage': 10, 'name': 'FET', 'onlyIsolated': False, 'szDecimals': 0}, {'maxLeverage': 10, 'name': 'STRAX', 'onlyIsolated': False, 'szDecimals': 0}, {'maxLeverage': 20, 'name': 'NEAR', 'onlyIsolated': False, 'szDecimals': 1}, {'maxLeverage': 10, 'name': 'MEME', 'onlyIsolated': False, 'szDecimals': 0}, {'maxLeverage': 10, 'name': 'ORDI', 'onlyIsolated': False, 'szDecimals': 2}, {'maxLeverage': 10, 'name': 'BADGER', 'onlyIsolated': False, 'szDecimals': 1}, {'maxLeverage': 20, 'name': 'NEO', 'onlyIsolated': False, 'szDecimals': 2}, {'maxLeverage': 10, 'name': 'ZEN', 'onlyIsolated': False, 'szDecimals': 2}, {'maxLeverage': 10, 'name': 'FIL', 'onlyIsolated': False, 'szDecimals': 1}, {'maxLeverage': 3, 'name': 'PYTH', 'onlyIsolated': False, 'szDecimals': 0}, {'maxLeverage': 10, 'name': 'RUNE', 'onlyIsolated': False, 'szDecimals': 1}, {'maxLeverage': 10, 'name': 'SUSHI', 'onlyIsolated': False, 'szDecimals': 1}, {'maxLeverage': 10, 'name': 'ILV', 'onlyIsolated': False, 'szDecimals': 2}, {'maxLeverage': 5, 'name': 'MAV', 'onlyIsolated': False, 'szDecimals': 0}, {'maxLeverage': 10, 'name': 'IMX', 'onlyIsolated': False, 'szDecimals': 1}, {'maxLeverage': 5, 'name': 'kBONK', 'onlyIsolated': False, 'szDecimals': 0}, {'maxLeverage': 3, 'name': 'NFTI', 'onlyIsolated': True, 'szDecimals': 1}, {'maxLeverage': 10, 'name': 'SUPER', 'onlyIsolated': False, 'szDecimals': 0}, {'maxLeverage': 10, 'name': 'USTC', 'onlyIsolated': False, 'szDecimals': 0}, {'maxLeverage': 3, 'name': 'JUP', 'onlyIsolated': False, 'szDecimals': 0}, {'maxLeverage': 10, 'name': 'JOE', 'onlyIsolated': False, 'szDecimals': 0}, {'maxLeverage': 10, 'name': 'GALA', 'onlyIsolated': False, 'szDecimals': 0}, {'maxLeverage': 5, 'name': 'RSR', 'onlyIsolated': False, 'szDecimals': 0}, {'maxLeverage': 10, 'name': 'kLUNC', 'onlyIsolated': False, 'szDecimals': 0}, {'maxLeverage': 10, 'name': 'JTO', 'onlyIsolated': False, 'szDecimals': 0}, {'maxLeverage': 10, 'name': 'ACE', 'onlyIsolated': False, 'szDecimals': 2}, {'maxLeverage': 5, 'name': 'WIF', 'onlyIsolated': True, 'szDecimals': 0}, {'maxLeverage': 10, 'name': 'CAKE', 'onlyIsolated': False, 'szDecimals': 1}, {'maxLeverage': 10, 'name': 'PEOPLE', 'onlyIsolated': False, 'szDecimals': 0}, {'maxLeverage': 10, 'name': 'ENS', 'onlyIsolated': False, 'szDecimals': 2}, {'maxLeverage': 10, 'name': 'ETC', 'onlyIsolated': False, 'szDecimals': 2}, {'maxLeverage': 10, 'name': 'XAI', 'onlyIsolated': False, 'szDecimals': 1}, {'maxLeverage': 10, 'name': 'MANTA', 'onlyIsolated': False, 'szDecimals': 1}, {'maxLeverage': 10, 'name': 'UMA', 'onlyIsolated': False, 'szDecimals': 1}, {'maxLeverage': 10, 'name': 'REQ', 'onlyIsolated': False, 'szDecimals': 0}, {'maxLeverage': 10, 'name': 'ONDO', 'onlyIsolated': False, 'szDecimals': 0}, {'maxLeverage': 10, 'name': 'ALT', 'onlyIsolated': False, 'szDecimals': 0}, {'maxLeverage': 10, 'name': 'ZETA', 'onlyIsolated': False, 'szDecimals': 1}, {'maxLeverage': 10, 'name': 'DYM', 'onlyIsolated': False, 'szDecimals': 1}, {'maxLeverage': 5, 'name': 'MAVIA', 'onlyIsolated': False, 'szDecimals': 1}, {'maxLeverage': 3, 'name': 'W', 'onlyIsolated': True, 'szDecimals': 0}, {'maxLeverage': 3, 'name': 'PANDORA', 'onlyIsolated': True, 'szDecimals': 5}, {'maxLeverage': 10, 'name': 'AI', 'onlyIsolated': False, 'szDecimals': 1}, {'maxLeverage': 5, 'name': 'TAO', 'onlyIsolated': False, 'szDecimals': 3}, {'maxLeverage': 5, 'name': 'PIXEL', 'onlyIsolated': False, 'szDecimals': 0}]}\n"
     ]
    }
   ],
   "source": [
    "print(active_market)"
   ]
  },
  {
   "cell_type": "code",
   "execution_count": null,
   "metadata": {},
   "outputs": [],
   "source": []
  }
 ],
 "metadata": {
  "kernelspec": {
   "display_name": "venv",
   "language": "python",
   "name": "python3"
  },
  "language_info": {
   "codemirror_mode": {
    "name": "ipython",
    "version": 3
   },
   "file_extension": ".py",
   "mimetype": "text/x-python",
   "name": "python",
   "nbconvert_exporter": "python",
   "pygments_lexer": "ipython3",
   "version": "3.10.0"
  }
 },
 "nbformat": 4,
 "nbformat_minor": 2
}
