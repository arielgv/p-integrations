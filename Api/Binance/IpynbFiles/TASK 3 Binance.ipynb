{
 "cells": [
  {
   "cell_type": "markdown",
   "metadata": {},
   "source": [
    "# VERSION DEFINITIVA"
   ]
  },
  {
   "cell_type": "code",
   "execution_count": 14,
   "metadata": {},
   "outputs": [
    {
     "name": "stdout",
     "output_type": "stream",
     "text": [
      "Assets:\n",
      "Asset: USDT, Wallet Balance: 15.00000000, Update Time: 2024-02-09 16:28:34\n",
      "No open positions to display.\n",
      "Assets:\n",
      "Asset: USDT, Wallet Balance: 15.00000000, Update Time: 2024-02-09 16:28:34\n",
      "No open positions to display.\n",
      "Script terminated by user.\n"
     ]
    }
   ],
   "source": [
    "from binance.client import Client\n",
    "import os\n",
    "from datetime import datetime\n",
    "import time\n",
    "\n",
    "api_key = os.getenv('BINANCE_API_KEY')\n",
    "api_secret = os.getenv('BINANCE_API_SECRET')\n",
    "\n",
    "client = Client(api_key, api_secret)\n",
    "\n",
    "def timestamp_to_date(timestamp):\n",
    "    return datetime.fromtimestamp(int(timestamp) / 1000).strftime('%Y-%m-%d %H:%M:%S')\n",
    "\n",
    "def print_account_assets():\n",
    "    account_info = client.get_account()\n",
    "    assets = [asset for asset in account_info['balances'] if float(asset['free']) > 0.0]\n",
    "    if assets:\n",
    "        print(\"Assets:\")\n",
    "        for asset in assets:\n",
    "            print(f\"Asset: {asset['asset']}, Wallet Balance: {asset['free']}, Update Time: {timestamp_to_date(account_info['updateTime'])}\")\n",
    "    else:\n",
    "        print(\"No assets to display.\")\n",
    "\n",
    "def print_open_positions():\n",
    "    positions = client.futures_account()['positions']\n",
    "    open_positions = [position for position in positions if float(position['positionAmt']) != 0.0]\n",
    "    if open_positions:\n",
    "        print(\"Open Positions:\")\n",
    "        for position in open_positions:\n",
    "            print(f\"Symbol: {position['symbol']}, Position Amount: {position['positionAmt']}, Position Side: {position['positionSide']}, \"\n",
    "                  f\"Leverage: {position['leverage']}, Maint Margin: {position['maintMargin']}, Entry Price: {position['entryPrice']}, \"\n",
    "                  f\"Unrealized Profit: {position['unrealizedProfit']}, Update Time: {timestamp_to_date(position['updateTime'])}\")\n",
    "    else:\n",
    "        print(\"No open positions to display.\")\n",
    "\n",
    "try:\n",
    "    while True:\n",
    "        print_account_assets()\n",
    "        print_open_positions()\n",
    "        time.sleep(10)  # 10 segundos refresh\n",
    "except KeyboardInterrupt:\n",
    "    print(\"Script terminated by user.\")\n"
   ]
  },
  {
   "cell_type": "code",
   "execution_count": null,
   "metadata": {},
   "outputs": [],
   "source": []
  }
 ],
 "metadata": {
  "kernelspec": {
   "display_name": "venv",
   "language": "python",
   "name": "python3"
  },
  "language_info": {
   "codemirror_mode": {
    "name": "ipython",
    "version": 3
   },
   "file_extension": ".py",
   "mimetype": "text/x-python",
   "name": "python",
   "nbconvert_exporter": "python",
   "pygments_lexer": "ipython3",
   "version": "3.10.0"
  }
 },
 "nbformat": 4,
 "nbformat_minor": 2
}
